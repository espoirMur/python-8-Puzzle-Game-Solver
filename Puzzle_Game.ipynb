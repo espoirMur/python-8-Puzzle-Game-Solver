{
 "cells": [
  {
   "cell_type": "markdown",
   "metadata": {},
   "source": [
    "### WEEK 2 ASSIGNEMENT PUZZLE GAME "
   ]
  },
  {
   "cell_type": "markdown",
   "metadata": {},
   "source": [
    "This is my solution for the puzzle Game for week 2 assigment :\n",
    "    "
   ]
  },
  {
   "cell_type": "markdown",
   "metadata": {},
   "source": [
    "### 1. The problem "
   ]
  },
  {
   "cell_type": "markdown",
   "metadata": {},
   "source": [
    "This problem is used to illustrate how a typical intelligent agent more precisely an a Goal based agent works.\n",
    "\n",
    "A goal based is an agent that works to identify action or series of action that lead to a goal .\n",
    "We have an initial state(The initial puzzle ) and we want to make a series of actions (move up,down, left and right ) in order to solve the puzzle. (Get to final state )\n",
    "\n",
    "By making those series of actions we are searching through a graph for all possibles states until we find a final solution that solves our puzzle."
   ]
  },
  {
   "cell_type": "markdown",
   "metadata": {},
   "source": [
    "### 2. Algorithm review "
   ]
  },
  {
   "cell_type": "markdown",
   "metadata": {},
   "source": [
    "\n",
    "Recall from the lectures that searches begin by visiting the root node of the search tree, given by the initial state. Among other book-keeping details, three major things happen in sequence in order to visit a node:\n",
    "\n",
    "- First, we remove a node from the frontier set.\n",
    "\n",
    "- Second, we check the state against the goal state to determine if a solution has been found. \n",
    "\n",
    "- Finally, if the result of the check is negative, we then expand the node. To expand a given node, we generate successor nodes adjacent to the current node, and add them to the frontier set. Note that if these successor nodes are already in the frontier, or have already been visited, then they should not be added to the frontier again.\n",
    "\n",
    "This describes the life-cycle of a visit, and is the basic order of operations for search agents in this assignment—(1) remove, (2) check, and (3) expand. In this assignment, we will implement algorithms as described here."
   ]
  },
  {
   "cell_type": "code",
   "execution_count": 1,
   "metadata": {},
   "outputs": [],
   "source": [
    "import resource\n",
    "import time\n",
    "from collections import deque"
   ]
  },
  {
   "cell_type": "markdown",
   "metadata": {},
   "source": [
    "The first algorithm to use is :\n",
    "\n",
    "**2. Breadth First Search:**"
   ]
  },
  {
   "cell_type": "markdown",
   "metadata": {},
   "source": [
    "Note that the diffrence between the 3 approach is in the data structure we use :\n",
    "\n",
    "For ** breadth first search** \n",
    "\n",
    "we have used a queue which we know is is FIFO (First in First Out)\n",
    "In python there is no data-structure for queue.\n",
    "from python [python doc](https://docs.python.org/3/tutorial/datastructures.html#using-lists-as-queues) :\n",
    "It is possible to use a list as a queue, where the first element added is the first element retrieved (“first-in, first-out”); however, lists are not efficient for this purpose. While appends and pops from the end of list are fast, doing inserts or pops from the beginning of a list is slow (because all of the other elements have to be shifted by one).\n",
    "\n",
    "To implement a queue, use collections.deque which was designed to have fast appends and pops from both ends.\n",
    "we add an element using append and remove it using popleft method"
   ]
  },
  {
   "cell_type": "markdown",
   "metadata": {},
   "source": [
    "_here is an implmentation of breath first search in python_"
   ]
  },
  {
   "cell_type": "code",
   "execution_count": 2,
   "metadata": {},
   "outputs": [],
   "source": [
    "def breadth_first_search(initial_state, goal):\n",
    "    \"\"\"\n",
    "    We will implement breadth first search as approach for solving \n",
    "    problem\n",
    "    we will start with an initial state , and check the state \n",
    "    \"\"\"\n",
    "    level = 0\n",
    "    frontier = deque([initial_state])\n",
    "    explored = set()\n",
    "    while frontier: #repeat  until the frontier will be empty\n",
    "        node = frontier.popleft() #first remove the node from the frontier set \n",
    "        explored.add(node.__repr__()) #add it to explored list\n",
    "        print('Output : ', node.movement, node.state, node.level, 'frontier', frontier)\n",
    "        #if the state is found build teh path to that state\n",
    "        if node.state == goal:\n",
    "            moves = []\n",
    "            temp = node\n",
    "            while True:\n",
    "                moves.insert(0, temp.movement)\n",
    "                if temp.level <= 1: \n",
    "                    break\n",
    "                temp = temp.parent\n",
    "            return moves, node.level\n",
    "        for neighbour in build_neighbour(node, mode=-1): #expand the node by generating all children \n",
    "            if neighbour.__repr__() not in explored: # check if it's already explored \n",
    "                #print('In ', neighbour, 'and the frontier is :', frontier)\n",
    "                frontier.append(neighbour) #add it to the frontier \n",
    "                print('In :', neighbour.state, neighbour.movement, 'and the frontier is :', frontier)"
   ]
  },
  {
   "cell_type": "markdown",
   "metadata": {},
   "source": [
    "For **Depth first search**\n",
    "\n",
    "we use stack The diffrence is the fact that a stack is LIFO (Last In Last Out ) and this helps use to visit the graph deeper expanding node by node.\n",
    "note in python doesn't have a special data structure for a stack:\n",
    "Here is how pyhton suggest us to implement a stack:\n",
    "[pyhton doc](https://docs.python.org/3/tutorial/datastructures.html#using-lists-as-stacks)\n",
    "\n",
    "The list methods make it very easy to use a list as a stack, where the last element added is the first element retrieved (“last-in, first-out”). To add an item to the top of the stack, use append(). To retrieve an item from the top of the stack, use pop() without an explicit index"
   ]
  },
  {
   "cell_type": "markdown",
   "metadata": {},
   "source": [
    "_let implement Depth first search_"
   ]
  },
  {
   "cell_type": "code",
   "execution_count": 24,
   "metadata": {
    "scrolled": true
   },
   "outputs": [],
   "source": [
    "def depth_first_search(initial_state, goal):\n",
    "    \"\"\"\n",
    "    here is an implmentation of depth first search\n",
    "    \"\"\"\n",
    "    level = 0\n",
    "    frontier = [initial_state]\n",
    "    explored = set()\n",
    "    nodes_expanded_counter = 0\n",
    "    while frontier: #repeat  until the frontier will be empty\n",
    "        node = frontier.pop() #first remove the node from the frontier set \n",
    "        explored.add(node.__repr__()) #add it to explored list\n",
    "        print('out :', node.state, node.movement, node.level,)\n",
    "        if node.state == goal:\n",
    "            moves = []\n",
    "            temp = node\n",
    "            while True:\n",
    "                moves.insert(0, temp.movement)\n",
    "                if temp.level <= 1: \n",
    "                    break\n",
    "                temp = temp.parent\n",
    "            return moves, node.level\n",
    "        for neighbour in build_neighbour(node, mode=1): #expand the node by generating all children \n",
    "            if neighbour.__repr__() not in explored: # check if it's already explored \n",
    "                #print('In ', neighbour, 'and the frontier is :', frontier)\n",
    "                frontier.append(neighbour) #add it to the frontier \n",
    "                print('In ', neighbour.state, neighbour.movement, 'and the frontier is :', frontier)"
   ]
  },
  {
   "cell_type": "markdown",
   "metadata": {},
   "source": [
    "For ASR : We will use a priority queue:\n",
    "But how to implment a priority queue in pyhton??\n"
   ]
  },
  {
   "cell_type": "markdown",
   "metadata": {},
   "source": [
    "show expalin the diffrence between the 3 possible approach."
   ]
  },
  {
   "cell_type": "markdown",
   "metadata": {},
   "source": [
    "As we can see in the pseudo we noticed that we will need tlo  find the neigboard or children of an initial state.\n",
    "but how??\n"
   ]
  },
  {
   "cell_type": "markdown",
   "metadata": {},
   "source": [
    "### **Node Representation**"
   ]
  },
  {
   "cell_type": "markdown",
   "metadata": {},
   "source": [
    "Object Oriented Approach use node as class with attribute and customize the code according to thats.\n",
    "Thanks for the code that was published to github before."
   ]
  },
  {
   "cell_type": "code",
   "execution_count": 5,
   "metadata": {},
   "outputs": [],
   "source": [
    "class Node:\n",
    "    \"\"\"\n",
    "    in the OOPS approach this will save our node, \n",
    "    each node has the following attributes:\n",
    "    state : this state\n",
    "    parent  : the parent that generate this node\n",
    "    movement: the movement we made to generate the node\n",
    "    level: the level where the node can be found in the graph\n",
    "    cost : will be used in astar, always 0 for BFS and DFS\n",
    "    \"\"\"\n",
    "    def __init__( self, state, parent, movement, level, cost ):\n",
    "        self.state = state\n",
    "        self.parent = parent\n",
    "        self.movement = movement\n",
    "        self.level = level\n",
    "        self.cost = cost\n",
    "    def __repr__(self):\n",
    "        return str(self.state)\n",
    "def create_node( state, parent, movement, level, cost ):\n",
    "    \"\"\"\n",
    "    \"\"\"\n",
    "    return Node( state, parent, movement, level, cost)"
   ]
  },
  {
   "cell_type": "markdown",
   "metadata": {},
   "source": [
    "Given an initial state we will list all possible move we can make from that ste and result of each move will be yield to the result."
   ]
  },
  {
   "cell_type": "markdown",
   "metadata": {},
   "source": [
    "given a state here is the action we will do:\n",
    "    - locate the position of zero from the initial state\n",
    "    - from that position perform all possible move that can be made, and return the resulting state"
   ]
  },
  {
   "cell_type": "markdown",
   "metadata": {},
   "source": [
    "notice the following remark for the puzzle :\n",
    "    - if the empty space is at possition [2, 5, 8 ] : we can not move right\n",
    "    - if the empty space is at [0, 3, 6 ] we canot move left\n",
    "    - if the empty spcace is at [0, 1, 2 ] not move up\n",
    "    - if empty space at [6, 7, 8 ] we cannot  move down"
   ]
  },
  {
   "cell_type": "markdown",
   "metadata": {},
   "source": [
    "Note also that we may not  move to a position if element of that are already ordered , \n",
    "ex : if we have this state [1, 0, 2, 3, 4, 5, 6, 7, 8 ] we cannot move down, or right becaue the list on the right is alredy ordered, the only possible move in that case is left, otherwise we will miss the solution, to  restrict that move we are going to check for the index of elment down the empty index using the following condition\n",
    "\n",
    "(empty_position // 3)*3 + 3"
   ]
  },
  {
   "cell_type": "markdown",
   "metadata": {},
   "source": [
    "also note that each move is preformed by doing some swaping :\n",
    "    - move up we swap the empty elment with the elemnt at [index_empty-3]\n",
    "    - move down swap the elment with the element at [index_empty + 3]\n",
    "    - move left move down swap the elment with the element at [index_empty - 1]\n",
    "    - ove right move down swap the elment with the element at [index_empty + 1]"
   ]
  },
  {
   "cell_type": "markdown",
   "metadata": {},
   "source": [
    "we canot make a move that will return us to a previous state"
   ]
  },
  {
   "cell_type": "markdown",
   "metadata": {},
   "source": [
    "let 4 utility function that perform each of  the move "
   ]
  },
  {
   "cell_type": "code",
   "execution_count": 6,
   "metadata": {},
   "outputs": [],
   "source": [
    "def move_left (state):\n",
    "    \"\"\"\n",
    "    this function check if empty space is not at [0, 3, 6 ]\n",
    "    and  move left by swapping the elment [index_empty - 1]\n",
    "    \"\"\"\n",
    "    empty_position = state.index(0)\n",
    "    if empty_position not in range(0, len(state), 3):\n",
    "        new_state = state[:]\n",
    "        new_state[empty_position] = new_state[empty_position -1]\n",
    "        new_state[empty_position -1] = 0\n",
    "        return new_state\n",
    "    else :\n",
    "        raise ValueError('Cannot move left')"
   ]
  },
  {
   "cell_type": "code",
   "execution_count": 7,
   "metadata": {},
   "outputs": [],
   "source": [
    "def move_right (state):\n",
    "    \"\"\"\n",
    "    this function check if empty space is not at [2, 5, 8 ]\n",
    "    and  move right by swapping the elment [index_empty + 1]\n",
    "    \"\"\"\n",
    "    empty_position = state.index(0)\n",
    "    goal = list(range(len(state)))\n",
    "    if empty_position not in range(2, len(state), 3) :#and (state[empty_position + 1:] != goal[empty_position + 1:]) :\n",
    "        new_state = state[:]\n",
    "        new_state [empty_position] = new_state [empty_position  + 1]\n",
    "        new_state [empty_position + 1] = 0\n",
    "        return new_state \n",
    "    else :\n",
    "        raise ValueError('cannot move  right')"
   ]
  },
  {
   "cell_type": "code",
   "execution_count": 8,
   "metadata": {},
   "outputs": [],
   "source": [
    "def move_up (state):\n",
    "    \"\"\"\n",
    "    this function check if empty space is not at [0, 1, 2 ]\n",
    "    and  move up by swapping the elment [index_empty - 3]\n",
    "    \"\"\"\n",
    "    \n",
    "    empty_position = state.index(0)\n",
    "    if empty_position not in range(3):\n",
    "        new_state = state[:]\n",
    "        new_state[empty_position] = new_state[empty_position  - 3]\n",
    "        new_state[empty_position - 3] = 0\n",
    "        return  new_state\n",
    "    else :\n",
    "        raise ValueError('cannot move  up')"
   ]
  },
  {
   "cell_type": "code",
   "execution_count": 9,
   "metadata": {},
   "outputs": [],
   "source": [
    "def move_down (state):\n",
    "    \"\"\"\n",
    "    this function check if empty space is not at [6, 7, 8 ]\n",
    "    and  move down by swapping the elment [index_empty + 3]\n",
    "    \"\"\"\n",
    "    empty_position = state.index(0)\n",
    "    goal = list(range(len(state)))\n",
    "    if empty_position not in range(6,  len(state)) :#and (state[(empty_position // 3)*3 + 3:] != goal[(empty_position // 3)*3 + 3:]) :\n",
    "        new_state = state[:]\n",
    "        new_state[empty_position] = new_state[empty_position  + 3]\n",
    "        new_state[empty_position +  3] = 0\n",
    "        return new_state\n",
    "    else :\n",
    "        raise ValueError('cannot move  down')"
   ]
  },
  {
   "cell_type": "code",
   "execution_count": 16,
   "metadata": {},
   "outputs": [],
   "source": [
    "def build_neighbour(initial_state, mode=None):\n",
    "    \"\"\"\n",
    "    this function will generate all possible sate (children, neighbour ) that occurs when we made \n",
    "    a move , up, down and left,\n",
    "    mode = 1 will be used for DFS\n",
    "    mode = -1 will be used for BFS\n",
    "    note for depth first search we will be puting element in RLDU and pull them in UDLR\n",
    "    for BFS we will put them in UDLR and pull and dequeu them in the same order\n",
    "    \"\"\"\n",
    "    for direction, action in zip(['Right', 'Left', 'Down', 'Up'][::mode] , [move_right, move_left, move_down, move_up][::mode]):\n",
    "        try:\n",
    "            new_state = create_node(state=action(initial_state.state), \n",
    "                                    parent=initial_state, \n",
    "                                    movement=direction, \n",
    "                                    level=initial_state.level+1, \n",
    "                                    cost=0)\n",
    "            #need to check if not in frontier\n",
    "            yield new_state\n",
    "        except ValueError:\n",
    "            pass"
   ]
  },
  {
   "cell_type": "markdown",
   "metadata": {},
   "source": [
    "Now let build an utility function that print the output of an algoritms to a file"
   ]
  },
  {
   "cell_type": "code",
   "execution_count": 11,
   "metadata": {},
   "outputs": [],
   "source": [
    "def print_results(**kwargs):\n",
    "    \"\"\"\n",
    "    the following function will print the \n",
    "    output of the software in a file\n",
    "    \"\"\"\n",
    "    with open(kwargs.get('log_filename'), 'a') as f:\n",
    "        print(\"path_to_goal:{}\".format(kwargs.get('path_to_goal'), []), file=f)\n",
    "        print(\"cost_of_path:{}\".format(len(kwargs.get('path_to_goal')), 0), file=f)\n",
    "        print(\"nodes_expanded:{}\".format(kwargs.get('nodes_expanded'), 0), file=f)\n",
    "        print(\"search_depth:{}\".format(kwargs.get('search_depth'), 0), file=f)\n",
    "        print(\"max_search_depth:{}\".format(kwargs.get('max_search_depth'), 0), file=f)\n",
    "        print(\"running_time:{}\".format(), file=f)\n",
    "        print(\"max_ram_usage:{}\".format(), file=f)"
   ]
  },
  {
   "cell_type": "code",
   "execution_count": 14,
   "metadata": {},
   "outputs": [],
   "source": [
    "initial_state = create_node(state=[1, 2, 5, 3, 4, 0, 6, 7, 8], parent=None, movement=None, level=0, cost=0)"
   ]
  },
  {
   "cell_type": "code",
   "execution_count": 17,
   "metadata": {
    "scrolled": false
   },
   "outputs": [
    {
     "name": "stdout",
     "output_type": "stream",
     "text": [
      "Output :  None [1, 2, 5, 3, 4, 0, 6, 7, 8] 0 frontier deque([])\n",
      "In : [1, 2, 0, 3, 4, 5, 6, 7, 8] Up and the frontier is : deque([[1, 2, 0, 3, 4, 5, 6, 7, 8]])\n",
      "In : [1, 2, 5, 3, 4, 8, 6, 7, 0] Down and the frontier is : deque([[1, 2, 0, 3, 4, 5, 6, 7, 8], [1, 2, 5, 3, 4, 8, 6, 7, 0]])\n",
      "In : [1, 2, 5, 3, 0, 4, 6, 7, 8] Left and the frontier is : deque([[1, 2, 0, 3, 4, 5, 6, 7, 8], [1, 2, 5, 3, 4, 8, 6, 7, 0], [1, 2, 5, 3, 0, 4, 6, 7, 8]])\n",
      "Output :  Up [1, 2, 0, 3, 4, 5, 6, 7, 8] 1 frontier deque([[1, 2, 5, 3, 4, 8, 6, 7, 0], [1, 2, 5, 3, 0, 4, 6, 7, 8]])\n",
      "In : [1, 0, 2, 3, 4, 5, 6, 7, 8] Left and the frontier is : deque([[1, 2, 5, 3, 4, 8, 6, 7, 0], [1, 2, 5, 3, 0, 4, 6, 7, 8], [1, 0, 2, 3, 4, 5, 6, 7, 8]])\n",
      "Output :  Down [1, 2, 5, 3, 4, 8, 6, 7, 0] 1 frontier deque([[1, 2, 5, 3, 0, 4, 6, 7, 8], [1, 0, 2, 3, 4, 5, 6, 7, 8]])\n",
      "In : [1, 2, 5, 3, 4, 8, 6, 0, 7] Left and the frontier is : deque([[1, 2, 5, 3, 0, 4, 6, 7, 8], [1, 0, 2, 3, 4, 5, 6, 7, 8], [1, 2, 5, 3, 4, 8, 6, 0, 7]])\n",
      "Output :  Left [1, 2, 5, 3, 0, 4, 6, 7, 8] 1 frontier deque([[1, 0, 2, 3, 4, 5, 6, 7, 8], [1, 2, 5, 3, 4, 8, 6, 0, 7]])\n",
      "In : [1, 0, 5, 3, 2, 4, 6, 7, 8] Up and the frontier is : deque([[1, 0, 2, 3, 4, 5, 6, 7, 8], [1, 2, 5, 3, 4, 8, 6, 0, 7], [1, 0, 5, 3, 2, 4, 6, 7, 8]])\n",
      "In : [1, 2, 5, 3, 7, 4, 6, 0, 8] Down and the frontier is : deque([[1, 0, 2, 3, 4, 5, 6, 7, 8], [1, 2, 5, 3, 4, 8, 6, 0, 7], [1, 0, 5, 3, 2, 4, 6, 7, 8], [1, 2, 5, 3, 7, 4, 6, 0, 8]])\n",
      "In : [1, 2, 5, 0, 3, 4, 6, 7, 8] Left and the frontier is : deque([[1, 0, 2, 3, 4, 5, 6, 7, 8], [1, 2, 5, 3, 4, 8, 6, 0, 7], [1, 0, 5, 3, 2, 4, 6, 7, 8], [1, 2, 5, 3, 7, 4, 6, 0, 8], [1, 2, 5, 0, 3, 4, 6, 7, 8]])\n",
      "Output :  Left [1, 0, 2, 3, 4, 5, 6, 7, 8] 2 frontier deque([[1, 2, 5, 3, 4, 8, 6, 0, 7], [1, 0, 5, 3, 2, 4, 6, 7, 8], [1, 2, 5, 3, 7, 4, 6, 0, 8], [1, 2, 5, 0, 3, 4, 6, 7, 8]])\n",
      "In : [1, 4, 2, 3, 0, 5, 6, 7, 8] Down and the frontier is : deque([[1, 2, 5, 3, 4, 8, 6, 0, 7], [1, 0, 5, 3, 2, 4, 6, 7, 8], [1, 2, 5, 3, 7, 4, 6, 0, 8], [1, 2, 5, 0, 3, 4, 6, 7, 8], [1, 4, 2, 3, 0, 5, 6, 7, 8]])\n",
      "In : [0, 1, 2, 3, 4, 5, 6, 7, 8] Left and the frontier is : deque([[1, 2, 5, 3, 4, 8, 6, 0, 7], [1, 0, 5, 3, 2, 4, 6, 7, 8], [1, 2, 5, 3, 7, 4, 6, 0, 8], [1, 2, 5, 0, 3, 4, 6, 7, 8], [1, 4, 2, 3, 0, 5, 6, 7, 8], [0, 1, 2, 3, 4, 5, 6, 7, 8]])\n",
      "Output :  Left [1, 2, 5, 3, 4, 8, 6, 0, 7] 2 frontier deque([[1, 0, 5, 3, 2, 4, 6, 7, 8], [1, 2, 5, 3, 7, 4, 6, 0, 8], [1, 2, 5, 0, 3, 4, 6, 7, 8], [1, 4, 2, 3, 0, 5, 6, 7, 8], [0, 1, 2, 3, 4, 5, 6, 7, 8]])\n",
      "In : [1, 2, 5, 3, 0, 8, 6, 4, 7] Up and the frontier is : deque([[1, 0, 5, 3, 2, 4, 6, 7, 8], [1, 2, 5, 3, 7, 4, 6, 0, 8], [1, 2, 5, 0, 3, 4, 6, 7, 8], [1, 4, 2, 3, 0, 5, 6, 7, 8], [0, 1, 2, 3, 4, 5, 6, 7, 8], [1, 2, 5, 3, 0, 8, 6, 4, 7]])\n",
      "In : [1, 2, 5, 3, 4, 8, 0, 6, 7] Left and the frontier is : deque([[1, 0, 5, 3, 2, 4, 6, 7, 8], [1, 2, 5, 3, 7, 4, 6, 0, 8], [1, 2, 5, 0, 3, 4, 6, 7, 8], [1, 4, 2, 3, 0, 5, 6, 7, 8], [0, 1, 2, 3, 4, 5, 6, 7, 8], [1, 2, 5, 3, 0, 8, 6, 4, 7], [1, 2, 5, 3, 4, 8, 0, 6, 7]])\n",
      "Output :  Up [1, 0, 5, 3, 2, 4, 6, 7, 8] 2 frontier deque([[1, 2, 5, 3, 7, 4, 6, 0, 8], [1, 2, 5, 0, 3, 4, 6, 7, 8], [1, 4, 2, 3, 0, 5, 6, 7, 8], [0, 1, 2, 3, 4, 5, 6, 7, 8], [1, 2, 5, 3, 0, 8, 6, 4, 7], [1, 2, 5, 3, 4, 8, 0, 6, 7]])\n",
      "In : [0, 1, 5, 3, 2, 4, 6, 7, 8] Left and the frontier is : deque([[1, 2, 5, 3, 7, 4, 6, 0, 8], [1, 2, 5, 0, 3, 4, 6, 7, 8], [1, 4, 2, 3, 0, 5, 6, 7, 8], [0, 1, 2, 3, 4, 5, 6, 7, 8], [1, 2, 5, 3, 0, 8, 6, 4, 7], [1, 2, 5, 3, 4, 8, 0, 6, 7], [0, 1, 5, 3, 2, 4, 6, 7, 8]])\n",
      "In : [1, 5, 0, 3, 2, 4, 6, 7, 8] Right and the frontier is : deque([[1, 2, 5, 3, 7, 4, 6, 0, 8], [1, 2, 5, 0, 3, 4, 6, 7, 8], [1, 4, 2, 3, 0, 5, 6, 7, 8], [0, 1, 2, 3, 4, 5, 6, 7, 8], [1, 2, 5, 3, 0, 8, 6, 4, 7], [1, 2, 5, 3, 4, 8, 0, 6, 7], [0, 1, 5, 3, 2, 4, 6, 7, 8], [1, 5, 0, 3, 2, 4, 6, 7, 8]])\n",
      "Output :  Down [1, 2, 5, 3, 7, 4, 6, 0, 8] 2 frontier deque([[1, 2, 5, 0, 3, 4, 6, 7, 8], [1, 4, 2, 3, 0, 5, 6, 7, 8], [0, 1, 2, 3, 4, 5, 6, 7, 8], [1, 2, 5, 3, 0, 8, 6, 4, 7], [1, 2, 5, 3, 4, 8, 0, 6, 7], [0, 1, 5, 3, 2, 4, 6, 7, 8], [1, 5, 0, 3, 2, 4, 6, 7, 8]])\n",
      "In : [1, 2, 5, 3, 7, 4, 0, 6, 8] Left and the frontier is : deque([[1, 2, 5, 0, 3, 4, 6, 7, 8], [1, 4, 2, 3, 0, 5, 6, 7, 8], [0, 1, 2, 3, 4, 5, 6, 7, 8], [1, 2, 5, 3, 0, 8, 6, 4, 7], [1, 2, 5, 3, 4, 8, 0, 6, 7], [0, 1, 5, 3, 2, 4, 6, 7, 8], [1, 5, 0, 3, 2, 4, 6, 7, 8], [1, 2, 5, 3, 7, 4, 0, 6, 8]])\n",
      "In : [1, 2, 5, 3, 7, 4, 6, 8, 0] Right and the frontier is : deque([[1, 2, 5, 0, 3, 4, 6, 7, 8], [1, 4, 2, 3, 0, 5, 6, 7, 8], [0, 1, 2, 3, 4, 5, 6, 7, 8], [1, 2, 5, 3, 0, 8, 6, 4, 7], [1, 2, 5, 3, 4, 8, 0, 6, 7], [0, 1, 5, 3, 2, 4, 6, 7, 8], [1, 5, 0, 3, 2, 4, 6, 7, 8], [1, 2, 5, 3, 7, 4, 0, 6, 8], [1, 2, 5, 3, 7, 4, 6, 8, 0]])\n",
      "Output :  Left [1, 2, 5, 0, 3, 4, 6, 7, 8] 2 frontier deque([[1, 4, 2, 3, 0, 5, 6, 7, 8], [0, 1, 2, 3, 4, 5, 6, 7, 8], [1, 2, 5, 3, 0, 8, 6, 4, 7], [1, 2, 5, 3, 4, 8, 0, 6, 7], [0, 1, 5, 3, 2, 4, 6, 7, 8], [1, 5, 0, 3, 2, 4, 6, 7, 8], [1, 2, 5, 3, 7, 4, 0, 6, 8], [1, 2, 5, 3, 7, 4, 6, 8, 0]])\n",
      "In : [0, 2, 5, 1, 3, 4, 6, 7, 8] Up and the frontier is : deque([[1, 4, 2, 3, 0, 5, 6, 7, 8], [0, 1, 2, 3, 4, 5, 6, 7, 8], [1, 2, 5, 3, 0, 8, 6, 4, 7], [1, 2, 5, 3, 4, 8, 0, 6, 7], [0, 1, 5, 3, 2, 4, 6, 7, 8], [1, 5, 0, 3, 2, 4, 6, 7, 8], [1, 2, 5, 3, 7, 4, 0, 6, 8], [1, 2, 5, 3, 7, 4, 6, 8, 0], [0, 2, 5, 1, 3, 4, 6, 7, 8]])\n",
      "In : [1, 2, 5, 6, 3, 4, 0, 7, 8] Down and the frontier is : deque([[1, 4, 2, 3, 0, 5, 6, 7, 8], [0, 1, 2, 3, 4, 5, 6, 7, 8], [1, 2, 5, 3, 0, 8, 6, 4, 7], [1, 2, 5, 3, 4, 8, 0, 6, 7], [0, 1, 5, 3, 2, 4, 6, 7, 8], [1, 5, 0, 3, 2, 4, 6, 7, 8], [1, 2, 5, 3, 7, 4, 0, 6, 8], [1, 2, 5, 3, 7, 4, 6, 8, 0], [0, 2, 5, 1, 3, 4, 6, 7, 8], [1, 2, 5, 6, 3, 4, 0, 7, 8]])\n",
      "Output :  Down [1, 4, 2, 3, 0, 5, 6, 7, 8] 3 frontier deque([[0, 1, 2, 3, 4, 5, 6, 7, 8], [1, 2, 5, 3, 0, 8, 6, 4, 7], [1, 2, 5, 3, 4, 8, 0, 6, 7], [0, 1, 5, 3, 2, 4, 6, 7, 8], [1, 5, 0, 3, 2, 4, 6, 7, 8], [1, 2, 5, 3, 7, 4, 0, 6, 8], [1, 2, 5, 3, 7, 4, 6, 8, 0], [0, 2, 5, 1, 3, 4, 6, 7, 8], [1, 2, 5, 6, 3, 4, 0, 7, 8]])\n",
      "In : [1, 4, 2, 3, 7, 5, 6, 0, 8] Down and the frontier is : deque([[0, 1, 2, 3, 4, 5, 6, 7, 8], [1, 2, 5, 3, 0, 8, 6, 4, 7], [1, 2, 5, 3, 4, 8, 0, 6, 7], [0, 1, 5, 3, 2, 4, 6, 7, 8], [1, 5, 0, 3, 2, 4, 6, 7, 8], [1, 2, 5, 3, 7, 4, 0, 6, 8], [1, 2, 5, 3, 7, 4, 6, 8, 0], [0, 2, 5, 1, 3, 4, 6, 7, 8], [1, 2, 5, 6, 3, 4, 0, 7, 8], [1, 4, 2, 3, 7, 5, 6, 0, 8]])\n",
      "In : [1, 4, 2, 0, 3, 5, 6, 7, 8] Left and the frontier is : deque([[0, 1, 2, 3, 4, 5, 6, 7, 8], [1, 2, 5, 3, 0, 8, 6, 4, 7], [1, 2, 5, 3, 4, 8, 0, 6, 7], [0, 1, 5, 3, 2, 4, 6, 7, 8], [1, 5, 0, 3, 2, 4, 6, 7, 8], [1, 2, 5, 3, 7, 4, 0, 6, 8], [1, 2, 5, 3, 7, 4, 6, 8, 0], [0, 2, 5, 1, 3, 4, 6, 7, 8], [1, 2, 5, 6, 3, 4, 0, 7, 8], [1, 4, 2, 3, 7, 5, 6, 0, 8], [1, 4, 2, 0, 3, 5, 6, 7, 8]])\n",
      "In : [1, 4, 2, 3, 5, 0, 6, 7, 8] Right and the frontier is : deque([[0, 1, 2, 3, 4, 5, 6, 7, 8], [1, 2, 5, 3, 0, 8, 6, 4, 7], [1, 2, 5, 3, 4, 8, 0, 6, 7], [0, 1, 5, 3, 2, 4, 6, 7, 8], [1, 5, 0, 3, 2, 4, 6, 7, 8], [1, 2, 5, 3, 7, 4, 0, 6, 8], [1, 2, 5, 3, 7, 4, 6, 8, 0], [0, 2, 5, 1, 3, 4, 6, 7, 8], [1, 2, 5, 6, 3, 4, 0, 7, 8], [1, 4, 2, 3, 7, 5, 6, 0, 8], [1, 4, 2, 0, 3, 5, 6, 7, 8], [1, 4, 2, 3, 5, 0, 6, 7, 8]])\n",
      "Output :  Left [0, 1, 2, 3, 4, 5, 6, 7, 8] 3 frontier deque([[1, 2, 5, 3, 0, 8, 6, 4, 7], [1, 2, 5, 3, 4, 8, 0, 6, 7], [0, 1, 5, 3, 2, 4, 6, 7, 8], [1, 5, 0, 3, 2, 4, 6, 7, 8], [1, 2, 5, 3, 7, 4, 0, 6, 8], [1, 2, 5, 3, 7, 4, 6, 8, 0], [0, 2, 5, 1, 3, 4, 6, 7, 8], [1, 2, 5, 6, 3, 4, 0, 7, 8], [1, 4, 2, 3, 7, 5, 6, 0, 8], [1, 4, 2, 0, 3, 5, 6, 7, 8], [1, 4, 2, 3, 5, 0, 6, 7, 8]])\n"
     ]
    },
    {
     "data": {
      "text/plain": [
       "(['Up', 'Left', 'Left'], 3)"
      ]
     },
     "execution_count": 17,
     "metadata": {},
     "output_type": "execute_result"
    }
   ],
   "source": [
    "breadth_first_search(initial_state=initial_state, goal=list(range(9)))"
   ]
  },
  {
   "cell_type": "markdown",
   "metadata": {},
   "source": [
    "The output is correct for the first test case"
   ]
  },
  {
   "cell_type": "code",
   "execution_count": 25,
   "metadata": {
    "scrolled": false
   },
   "outputs": [
    {
     "name": "stdout",
     "output_type": "stream",
     "text": [
      "out : [1, 2, 5, 3, 4, 0, 6, 7, 8] None 0\n",
      "In  [1, 2, 5, 3, 0, 4, 6, 7, 8] Left and the frontier is : [[1, 2, 5, 3, 0, 4, 6, 7, 8]]\n",
      "In  [1, 2, 5, 3, 4, 8, 6, 7, 0] Down and the frontier is : [[1, 2, 5, 3, 0, 4, 6, 7, 8], [1, 2, 5, 3, 4, 8, 6, 7, 0]]\n",
      "In  [1, 2, 0, 3, 4, 5, 6, 7, 8] Up and the frontier is : [[1, 2, 5, 3, 0, 4, 6, 7, 8], [1, 2, 5, 3, 4, 8, 6, 7, 0], [1, 2, 0, 3, 4, 5, 6, 7, 8]]\n",
      "out : [1, 2, 0, 3, 4, 5, 6, 7, 8] Up 1\n",
      "In  [1, 0, 2, 3, 4, 5, 6, 7, 8] Left and the frontier is : [[1, 2, 5, 3, 0, 4, 6, 7, 8], [1, 2, 5, 3, 4, 8, 6, 7, 0], [1, 0, 2, 3, 4, 5, 6, 7, 8]]\n",
      "out : [1, 0, 2, 3, 4, 5, 6, 7, 8] Left 2\n",
      "In  [0, 1, 2, 3, 4, 5, 6, 7, 8] Left and the frontier is : [[1, 2, 5, 3, 0, 4, 6, 7, 8], [1, 2, 5, 3, 4, 8, 6, 7, 0], [0, 1, 2, 3, 4, 5, 6, 7, 8]]\n",
      "In  [1, 4, 2, 3, 0, 5, 6, 7, 8] Down and the frontier is : [[1, 2, 5, 3, 0, 4, 6, 7, 8], [1, 2, 5, 3, 4, 8, 6, 7, 0], [0, 1, 2, 3, 4, 5, 6, 7, 8], [1, 4, 2, 3, 0, 5, 6, 7, 8]]\n",
      "out : [1, 4, 2, 3, 0, 5, 6, 7, 8] Down 3\n",
      "In  [1, 4, 2, 3, 5, 0, 6, 7, 8] Right and the frontier is : [[1, 2, 5, 3, 0, 4, 6, 7, 8], [1, 2, 5, 3, 4, 8, 6, 7, 0], [0, 1, 2, 3, 4, 5, 6, 7, 8], [1, 4, 2, 3, 5, 0, 6, 7, 8]]\n",
      "In  [1, 4, 2, 0, 3, 5, 6, 7, 8] Left and the frontier is : [[1, 2, 5, 3, 0, 4, 6, 7, 8], [1, 2, 5, 3, 4, 8, 6, 7, 0], [0, 1, 2, 3, 4, 5, 6, 7, 8], [1, 4, 2, 3, 5, 0, 6, 7, 8], [1, 4, 2, 0, 3, 5, 6, 7, 8]]\n",
      "In  [1, 4, 2, 3, 7, 5, 6, 0, 8] Down and the frontier is : [[1, 2, 5, 3, 0, 4, 6, 7, 8], [1, 2, 5, 3, 4, 8, 6, 7, 0], [0, 1, 2, 3, 4, 5, 6, 7, 8], [1, 4, 2, 3, 5, 0, 6, 7, 8], [1, 4, 2, 0, 3, 5, 6, 7, 8], [1, 4, 2, 3, 7, 5, 6, 0, 8]]\n",
      "out : [1, 4, 2, 3, 7, 5, 6, 0, 8] Down 4\n",
      "In  [1, 4, 2, 3, 7, 5, 6, 8, 0] Right and the frontier is : [[1, 2, 5, 3, 0, 4, 6, 7, 8], [1, 2, 5, 3, 4, 8, 6, 7, 0], [0, 1, 2, 3, 4, 5, 6, 7, 8], [1, 4, 2, 3, 5, 0, 6, 7, 8], [1, 4, 2, 0, 3, 5, 6, 7, 8], [1, 4, 2, 3, 7, 5, 6, 8, 0]]\n",
      "In  [1, 4, 2, 3, 7, 5, 0, 6, 8] Left and the frontier is : [[1, 2, 5, 3, 0, 4, 6, 7, 8], [1, 2, 5, 3, 4, 8, 6, 7, 0], [0, 1, 2, 3, 4, 5, 6, 7, 8], [1, 4, 2, 3, 5, 0, 6, 7, 8], [1, 4, 2, 0, 3, 5, 6, 7, 8], [1, 4, 2, 3, 7, 5, 6, 8, 0], [1, 4, 2, 3, 7, 5, 0, 6, 8]]\n",
      "out : [1, 4, 2, 3, 7, 5, 0, 6, 8] Left 5\n",
      "In  [1, 4, 2, 0, 7, 5, 3, 6, 8] Up and the frontier is : [[1, 2, 5, 3, 0, 4, 6, 7, 8], [1, 2, 5, 3, 4, 8, 6, 7, 0], [0, 1, 2, 3, 4, 5, 6, 7, 8], [1, 4, 2, 3, 5, 0, 6, 7, 8], [1, 4, 2, 0, 3, 5, 6, 7, 8], [1, 4, 2, 3, 7, 5, 6, 8, 0], [1, 4, 2, 0, 7, 5, 3, 6, 8]]\n",
      "out : [1, 4, 2, 0, 7, 5, 3, 6, 8] Up 6\n",
      "In  [1, 4, 2, 7, 0, 5, 3, 6, 8] Right and the frontier is : [[1, 2, 5, 3, 0, 4, 6, 7, 8], [1, 2, 5, 3, 4, 8, 6, 7, 0], [0, 1, 2, 3, 4, 5, 6, 7, 8], [1, 4, 2, 3, 5, 0, 6, 7, 8], [1, 4, 2, 0, 3, 5, 6, 7, 8], [1, 4, 2, 3, 7, 5, 6, 8, 0], [1, 4, 2, 7, 0, 5, 3, 6, 8]]\n",
      "In  [0, 4, 2, 1, 7, 5, 3, 6, 8] Up and the frontier is : [[1, 2, 5, 3, 0, 4, 6, 7, 8], [1, 2, 5, 3, 4, 8, 6, 7, 0], [0, 1, 2, 3, 4, 5, 6, 7, 8], [1, 4, 2, 3, 5, 0, 6, 7, 8], [1, 4, 2, 0, 3, 5, 6, 7, 8], [1, 4, 2, 3, 7, 5, 6, 8, 0], [1, 4, 2, 7, 0, 5, 3, 6, 8], [0, 4, 2, 1, 7, 5, 3, 6, 8]]\n",
      "out : [0, 4, 2, 1, 7, 5, 3, 6, 8] Up 7\n",
      "In  [4, 0, 2, 1, 7, 5, 3, 6, 8] Right and the frontier is : [[1, 2, 5, 3, 0, 4, 6, 7, 8], [1, 2, 5, 3, 4, 8, 6, 7, 0], [0, 1, 2, 3, 4, 5, 6, 7, 8], [1, 4, 2, 3, 5, 0, 6, 7, 8], [1, 4, 2, 0, 3, 5, 6, 7, 8], [1, 4, 2, 3, 7, 5, 6, 8, 0], [1, 4, 2, 7, 0, 5, 3, 6, 8], [4, 0, 2, 1, 7, 5, 3, 6, 8]]\n",
      "out : [4, 0, 2, 1, 7, 5, 3, 6, 8] Right 8\n",
      "In  [4, 2, 0, 1, 7, 5, 3, 6, 8] Right and the frontier is : [[1, 2, 5, 3, 0, 4, 6, 7, 8], [1, 2, 5, 3, 4, 8, 6, 7, 0], [0, 1, 2, 3, 4, 5, 6, 7, 8], [1, 4, 2, 3, 5, 0, 6, 7, 8], [1, 4, 2, 0, 3, 5, 6, 7, 8], [1, 4, 2, 3, 7, 5, 6, 8, 0], [1, 4, 2, 7, 0, 5, 3, 6, 8], [4, 2, 0, 1, 7, 5, 3, 6, 8]]\n",
      "In  [4, 7, 2, 1, 0, 5, 3, 6, 8] Down and the frontier is : [[1, 2, 5, 3, 0, 4, 6, 7, 8], [1, 2, 5, 3, 4, 8, 6, 7, 0], [0, 1, 2, 3, 4, 5, 6, 7, 8], [1, 4, 2, 3, 5, 0, 6, 7, 8], [1, 4, 2, 0, 3, 5, 6, 7, 8], [1, 4, 2, 3, 7, 5, 6, 8, 0], [1, 4, 2, 7, 0, 5, 3, 6, 8], [4, 2, 0, 1, 7, 5, 3, 6, 8], [4, 7, 2, 1, 0, 5, 3, 6, 8]]\n",
      "out : [4, 7, 2, 1, 0, 5, 3, 6, 8] Down 9\n",
      "In  [4, 7, 2, 1, 5, 0, 3, 6, 8] Right and the frontier is : [[1, 2, 5, 3, 0, 4, 6, 7, 8], [1, 2, 5, 3, 4, 8, 6, 7, 0], [0, 1, 2, 3, 4, 5, 6, 7, 8], [1, 4, 2, 3, 5, 0, 6, 7, 8], [1, 4, 2, 0, 3, 5, 6, 7, 8], [1, 4, 2, 3, 7, 5, 6, 8, 0], [1, 4, 2, 7, 0, 5, 3, 6, 8], [4, 2, 0, 1, 7, 5, 3, 6, 8], [4, 7, 2, 1, 5, 0, 3, 6, 8]]\n",
      "In  [4, 7, 2, 0, 1, 5, 3, 6, 8] Left and the frontier is : [[1, 2, 5, 3, 0, 4, 6, 7, 8], [1, 2, 5, 3, 4, 8, 6, 7, 0], [0, 1, 2, 3, 4, 5, 6, 7, 8], [1, 4, 2, 3, 5, 0, 6, 7, 8], [1, 4, 2, 0, 3, 5, 6, 7, 8], [1, 4, 2, 3, 7, 5, 6, 8, 0], [1, 4, 2, 7, 0, 5, 3, 6, 8], [4, 2, 0, 1, 7, 5, 3, 6, 8], [4, 7, 2, 1, 5, 0, 3, 6, 8], [4, 7, 2, 0, 1, 5, 3, 6, 8]]\n",
      "In  [4, 7, 2, 1, 6, 5, 3, 0, 8] Down and the frontier is : [[1, 2, 5, 3, 0, 4, 6, 7, 8], [1, 2, 5, 3, 4, 8, 6, 7, 0], [0, 1, 2, 3, 4, 5, 6, 7, 8], [1, 4, 2, 3, 5, 0, 6, 7, 8], [1, 4, 2, 0, 3, 5, 6, 7, 8], [1, 4, 2, 3, 7, 5, 6, 8, 0], [1, 4, 2, 7, 0, 5, 3, 6, 8], [4, 2, 0, 1, 7, 5, 3, 6, 8], [4, 7, 2, 1, 5, 0, 3, 6, 8], [4, 7, 2, 0, 1, 5, 3, 6, 8], [4, 7, 2, 1, 6, 5, 3, 0, 8]]\n",
      "out : [4, 7, 2, 1, 6, 5, 3, 0, 8] Down 10\n",
      "In  [4, 7, 2, 1, 6, 5, 3, 8, 0] Right and the frontier is : [[1, 2, 5, 3, 0, 4, 6, 7, 8], [1, 2, 5, 3, 4, 8, 6, 7, 0], [0, 1, 2, 3, 4, 5, 6, 7, 8], [1, 4, 2, 3, 5, 0, 6, 7, 8], [1, 4, 2, 0, 3, 5, 6, 7, 8], [1, 4, 2, 3, 7, 5, 6, 8, 0], [1, 4, 2, 7, 0, 5, 3, 6, 8], [4, 2, 0, 1, 7, 5, 3, 6, 8], [4, 7, 2, 1, 5, 0, 3, 6, 8], [4, 7, 2, 0, 1, 5, 3, 6, 8], [4, 7, 2, 1, 6, 5, 3, 8, 0]]\n",
      "In  [4, 7, 2, 1, 6, 5, 0, 3, 8] Left and the frontier is : [[1, 2, 5, 3, 0, 4, 6, 7, 8], [1, 2, 5, 3, 4, 8, 6, 7, 0], [0, 1, 2, 3, 4, 5, 6, 7, 8], [1, 4, 2, 3, 5, 0, 6, 7, 8], [1, 4, 2, 0, 3, 5, 6, 7, 8], [1, 4, 2, 3, 7, 5, 6, 8, 0], [1, 4, 2, 7, 0, 5, 3, 6, 8], [4, 2, 0, 1, 7, 5, 3, 6, 8], [4, 7, 2, 1, 5, 0, 3, 6, 8], [4, 7, 2, 0, 1, 5, 3, 6, 8], [4, 7, 2, 1, 6, 5, 3, 8, 0], [4, 7, 2, 1, 6, 5, 0, 3, 8]]\n",
      "out : [4, 7, 2, 1, 6, 5, 0, 3, 8] Left 11\n",
      "In  [4, 7, 2, 0, 6, 5, 1, 3, 8] Up and the frontier is : [[1, 2, 5, 3, 0, 4, 6, 7, 8], [1, 2, 5, 3, 4, 8, 6, 7, 0], [0, 1, 2, 3, 4, 5, 6, 7, 8], [1, 4, 2, 3, 5, 0, 6, 7, 8], [1, 4, 2, 0, 3, 5, 6, 7, 8], [1, 4, 2, 3, 7, 5, 6, 8, 0], [1, 4, 2, 7, 0, 5, 3, 6, 8], [4, 2, 0, 1, 7, 5, 3, 6, 8], [4, 7, 2, 1, 5, 0, 3, 6, 8], [4, 7, 2, 0, 1, 5, 3, 6, 8], [4, 7, 2, 1, 6, 5, 3, 8, 0], [4, 7, 2, 0, 6, 5, 1, 3, 8]]\n",
      "out : [4, 7, 2, 0, 6, 5, 1, 3, 8] Up 12\n",
      "In  [4, 7, 2, 6, 0, 5, 1, 3, 8] Right and the frontier is : [[1, 2, 5, 3, 0, 4, 6, 7, 8], [1, 2, 5, 3, 4, 8, 6, 7, 0], [0, 1, 2, 3, 4, 5, 6, 7, 8], [1, 4, 2, 3, 5, 0, 6, 7, 8], [1, 4, 2, 0, 3, 5, 6, 7, 8], [1, 4, 2, 3, 7, 5, 6, 8, 0], [1, 4, 2, 7, 0, 5, 3, 6, 8], [4, 2, 0, 1, 7, 5, 3, 6, 8], [4, 7, 2, 1, 5, 0, 3, 6, 8], [4, 7, 2, 0, 1, 5, 3, 6, 8], [4, 7, 2, 1, 6, 5, 3, 8, 0], [4, 7, 2, 6, 0, 5, 1, 3, 8]]\n",
      "In  [0, 7, 2, 4, 6, 5, 1, 3, 8] Up and the frontier is : [[1, 2, 5, 3, 0, 4, 6, 7, 8], [1, 2, 5, 3, 4, 8, 6, 7, 0], [0, 1, 2, 3, 4, 5, 6, 7, 8], [1, 4, 2, 3, 5, 0, 6, 7, 8], [1, 4, 2, 0, 3, 5, 6, 7, 8], [1, 4, 2, 3, 7, 5, 6, 8, 0], [1, 4, 2, 7, 0, 5, 3, 6, 8], [4, 2, 0, 1, 7, 5, 3, 6, 8], [4, 7, 2, 1, 5, 0, 3, 6, 8], [4, 7, 2, 0, 1, 5, 3, 6, 8], [4, 7, 2, 1, 6, 5, 3, 8, 0], [4, 7, 2, 6, 0, 5, 1, 3, 8], [0, 7, 2, 4, 6, 5, 1, 3, 8]]\n",
      "out : [0, 7, 2, 4, 6, 5, 1, 3, 8] Up 13\n",
      "In  [7, 0, 2, 4, 6, 5, 1, 3, 8] Right and the frontier is : [[1, 2, 5, 3, 0, 4, 6, 7, 8], [1, 2, 5, 3, 4, 8, 6, 7, 0], [0, 1, 2, 3, 4, 5, 6, 7, 8], [1, 4, 2, 3, 5, 0, 6, 7, 8], [1, 4, 2, 0, 3, 5, 6, 7, 8], [1, 4, 2, 3, 7, 5, 6, 8, 0], [1, 4, 2, 7, 0, 5, 3, 6, 8], [4, 2, 0, 1, 7, 5, 3, 6, 8], [4, 7, 2, 1, 5, 0, 3, 6, 8], [4, 7, 2, 0, 1, 5, 3, 6, 8], [4, 7, 2, 1, 6, 5, 3, 8, 0], [4, 7, 2, 6, 0, 5, 1, 3, 8], [7, 0, 2, 4, 6, 5, 1, 3, 8]]\n",
      "out : [7, 0, 2, 4, 6, 5, 1, 3, 8] Right 14\n",
      "In  [7, 2, 0, 4, 6, 5, 1, 3, 8] Right and the frontier is : [[1, 2, 5, 3, 0, 4, 6, 7, 8], [1, 2, 5, 3, 4, 8, 6, 7, 0], [0, 1, 2, 3, 4, 5, 6, 7, 8], [1, 4, 2, 3, 5, 0, 6, 7, 8], [1, 4, 2, 0, 3, 5, 6, 7, 8], [1, 4, 2, 3, 7, 5, 6, 8, 0], [1, 4, 2, 7, 0, 5, 3, 6, 8], [4, 2, 0, 1, 7, 5, 3, 6, 8], [4, 7, 2, 1, 5, 0, 3, 6, 8], [4, 7, 2, 0, 1, 5, 3, 6, 8], [4, 7, 2, 1, 6, 5, 3, 8, 0], [4, 7, 2, 6, 0, 5, 1, 3, 8], [7, 2, 0, 4, 6, 5, 1, 3, 8]]\n",
      "In  [7, 6, 2, 4, 0, 5, 1, 3, 8] Down and the frontier is : [[1, 2, 5, 3, 0, 4, 6, 7, 8], [1, 2, 5, 3, 4, 8, 6, 7, 0], [0, 1, 2, 3, 4, 5, 6, 7, 8], [1, 4, 2, 3, 5, 0, 6, 7, 8], [1, 4, 2, 0, 3, 5, 6, 7, 8], [1, 4, 2, 3, 7, 5, 6, 8, 0], [1, 4, 2, 7, 0, 5, 3, 6, 8], [4, 2, 0, 1, 7, 5, 3, 6, 8], [4, 7, 2, 1, 5, 0, 3, 6, 8], [4, 7, 2, 0, 1, 5, 3, 6, 8], [4, 7, 2, 1, 6, 5, 3, 8, 0], [4, 7, 2, 6, 0, 5, 1, 3, 8], [7, 2, 0, 4, 6, 5, 1, 3, 8], [7, 6, 2, 4, 0, 5, 1, 3, 8]]\n",
      "out : [7, 6, 2, 4, 0, 5, 1, 3, 8] Down 15\n",
      "In  [7, 6, 2, 4, 5, 0, 1, 3, 8] Right and the frontier is : [[1, 2, 5, 3, 0, 4, 6, 7, 8], [1, 2, 5, 3, 4, 8, 6, 7, 0], [0, 1, 2, 3, 4, 5, 6, 7, 8], [1, 4, 2, 3, 5, 0, 6, 7, 8], [1, 4, 2, 0, 3, 5, 6, 7, 8], [1, 4, 2, 3, 7, 5, 6, 8, 0], [1, 4, 2, 7, 0, 5, 3, 6, 8], [4, 2, 0, 1, 7, 5, 3, 6, 8], [4, 7, 2, 1, 5, 0, 3, 6, 8], [4, 7, 2, 0, 1, 5, 3, 6, 8], [4, 7, 2, 1, 6, 5, 3, 8, 0], [4, 7, 2, 6, 0, 5, 1, 3, 8], [7, 2, 0, 4, 6, 5, 1, 3, 8], [7, 6, 2, 4, 5, 0, 1, 3, 8]]\n",
      "In  [7, 6, 2, 0, 4, 5, 1, 3, 8] Left and the frontier is : [[1, 2, 5, 3, 0, 4, 6, 7, 8], [1, 2, 5, 3, 4, 8, 6, 7, 0], [0, 1, 2, 3, 4, 5, 6, 7, 8], [1, 4, 2, 3, 5, 0, 6, 7, 8], [1, 4, 2, 0, 3, 5, 6, 7, 8], [1, 4, 2, 3, 7, 5, 6, 8, 0], [1, 4, 2, 7, 0, 5, 3, 6, 8], [4, 2, 0, 1, 7, 5, 3, 6, 8], [4, 7, 2, 1, 5, 0, 3, 6, 8], [4, 7, 2, 0, 1, 5, 3, 6, 8], [4, 7, 2, 1, 6, 5, 3, 8, 0], [4, 7, 2, 6, 0, 5, 1, 3, 8], [7, 2, 0, 4, 6, 5, 1, 3, 8], [7, 6, 2, 4, 5, 0, 1, 3, 8], [7, 6, 2, 0, 4, 5, 1, 3, 8]]\n",
      "In  [7, 6, 2, 4, 3, 5, 1, 0, 8] Down and the frontier is : [[1, 2, 5, 3, 0, 4, 6, 7, 8], [1, 2, 5, 3, 4, 8, 6, 7, 0], [0, 1, 2, 3, 4, 5, 6, 7, 8], [1, 4, 2, 3, 5, 0, 6, 7, 8], [1, 4, 2, 0, 3, 5, 6, 7, 8], [1, 4, 2, 3, 7, 5, 6, 8, 0], [1, 4, 2, 7, 0, 5, 3, 6, 8], [4, 2, 0, 1, 7, 5, 3, 6, 8], [4, 7, 2, 1, 5, 0, 3, 6, 8], [4, 7, 2, 0, 1, 5, 3, 6, 8], [4, 7, 2, 1, 6, 5, 3, 8, 0], [4, 7, 2, 6, 0, 5, 1, 3, 8], [7, 2, 0, 4, 6, 5, 1, 3, 8], [7, 6, 2, 4, 5, 0, 1, 3, 8], [7, 6, 2, 0, 4, 5, 1, 3, 8], [7, 6, 2, 4, 3, 5, 1, 0, 8]]\n",
      "out : [7, 6, 2, 4, 3, 5, 1, 0, 8] Down 16\n",
      "In  [7, 6, 2, 4, 3, 5, 1, 8, 0] Right and the frontier is : [[1, 2, 5, 3, 0, 4, 6, 7, 8], [1, 2, 5, 3, 4, 8, 6, 7, 0], [0, 1, 2, 3, 4, 5, 6, 7, 8], [1, 4, 2, 3, 5, 0, 6, 7, 8], [1, 4, 2, 0, 3, 5, 6, 7, 8], [1, 4, 2, 3, 7, 5, 6, 8, 0], [1, 4, 2, 7, 0, 5, 3, 6, 8], [4, 2, 0, 1, 7, 5, 3, 6, 8], [4, 7, 2, 1, 5, 0, 3, 6, 8], [4, 7, 2, 0, 1, 5, 3, 6, 8], [4, 7, 2, 1, 6, 5, 3, 8, 0], [4, 7, 2, 6, 0, 5, 1, 3, 8], [7, 2, 0, 4, 6, 5, 1, 3, 8], [7, 6, 2, 4, 5, 0, 1, 3, 8], [7, 6, 2, 0, 4, 5, 1, 3, 8], [7, 6, 2, 4, 3, 5, 1, 8, 0]]\n",
      "In  [7, 6, 2, 4, 3, 5, 0, 1, 8] Left and the frontier is : [[1, 2, 5, 3, 0, 4, 6, 7, 8], [1, 2, 5, 3, 4, 8, 6, 7, 0], [0, 1, 2, 3, 4, 5, 6, 7, 8], [1, 4, 2, 3, 5, 0, 6, 7, 8], [1, 4, 2, 0, 3, 5, 6, 7, 8], [1, 4, 2, 3, 7, 5, 6, 8, 0], [1, 4, 2, 7, 0, 5, 3, 6, 8], [4, 2, 0, 1, 7, 5, 3, 6, 8], [4, 7, 2, 1, 5, 0, 3, 6, 8], [4, 7, 2, 0, 1, 5, 3, 6, 8], [4, 7, 2, 1, 6, 5, 3, 8, 0], [4, 7, 2, 6, 0, 5, 1, 3, 8], [7, 2, 0, 4, 6, 5, 1, 3, 8], [7, 6, 2, 4, 5, 0, 1, 3, 8], [7, 6, 2, 0, 4, 5, 1, 3, 8], [7, 6, 2, 4, 3, 5, 1, 8, 0], [7, 6, 2, 4, 3, 5, 0, 1, 8]]\n",
      "out : [7, 6, 2, 4, 3, 5, 0, 1, 8] Left 17\n",
      "In  [7, 6, 2, 0, 3, 5, 4, 1, 8] Up and the frontier is : [[1, 2, 5, 3, 0, 4, 6, 7, 8], [1, 2, 5, 3, 4, 8, 6, 7, 0], [0, 1, 2, 3, 4, 5, 6, 7, 8], [1, 4, 2, 3, 5, 0, 6, 7, 8], [1, 4, 2, 0, 3, 5, 6, 7, 8], [1, 4, 2, 3, 7, 5, 6, 8, 0], [1, 4, 2, 7, 0, 5, 3, 6, 8], [4, 2, 0, 1, 7, 5, 3, 6, 8], [4, 7, 2, 1, 5, 0, 3, 6, 8], [4, 7, 2, 0, 1, 5, 3, 6, 8], [4, 7, 2, 1, 6, 5, 3, 8, 0], [4, 7, 2, 6, 0, 5, 1, 3, 8], [7, 2, 0, 4, 6, 5, 1, 3, 8], [7, 6, 2, 4, 5, 0, 1, 3, 8], [7, 6, 2, 0, 4, 5, 1, 3, 8], [7, 6, 2, 4, 3, 5, 1, 8, 0], [7, 6, 2, 0, 3, 5, 4, 1, 8]]\n",
      "out : [7, 6, 2, 0, 3, 5, 4, 1, 8] Up 18\n",
      "In  [7, 6, 2, 3, 0, 5, 4, 1, 8] Right and the frontier is : [[1, 2, 5, 3, 0, 4, 6, 7, 8], [1, 2, 5, 3, 4, 8, 6, 7, 0], [0, 1, 2, 3, 4, 5, 6, 7, 8], [1, 4, 2, 3, 5, 0, 6, 7, 8], [1, 4, 2, 0, 3, 5, 6, 7, 8], [1, 4, 2, 3, 7, 5, 6, 8, 0], [1, 4, 2, 7, 0, 5, 3, 6, 8], [4, 2, 0, 1, 7, 5, 3, 6, 8], [4, 7, 2, 1, 5, 0, 3, 6, 8], [4, 7, 2, 0, 1, 5, 3, 6, 8], [4, 7, 2, 1, 6, 5, 3, 8, 0], [4, 7, 2, 6, 0, 5, 1, 3, 8], [7, 2, 0, 4, 6, 5, 1, 3, 8], [7, 6, 2, 4, 5, 0, 1, 3, 8], [7, 6, 2, 0, 4, 5, 1, 3, 8], [7, 6, 2, 4, 3, 5, 1, 8, 0], [7, 6, 2, 3, 0, 5, 4, 1, 8]]\n",
      "In  [0, 6, 2, 7, 3, 5, 4, 1, 8] Up and the frontier is : [[1, 2, 5, 3, 0, 4, 6, 7, 8], [1, 2, 5, 3, 4, 8, 6, 7, 0], [0, 1, 2, 3, 4, 5, 6, 7, 8], [1, 4, 2, 3, 5, 0, 6, 7, 8], [1, 4, 2, 0, 3, 5, 6, 7, 8], [1, 4, 2, 3, 7, 5, 6, 8, 0], [1, 4, 2, 7, 0, 5, 3, 6, 8], [4, 2, 0, 1, 7, 5, 3, 6, 8], [4, 7, 2, 1, 5, 0, 3, 6, 8], [4, 7, 2, 0, 1, 5, 3, 6, 8], [4, 7, 2, 1, 6, 5, 3, 8, 0], [4, 7, 2, 6, 0, 5, 1, 3, 8], [7, 2, 0, 4, 6, 5, 1, 3, 8], [7, 6, 2, 4, 5, 0, 1, 3, 8], [7, 6, 2, 0, 4, 5, 1, 3, 8], [7, 6, 2, 4, 3, 5, 1, 8, 0], [7, 6, 2, 3, 0, 5, 4, 1, 8], [0, 6, 2, 7, 3, 5, 4, 1, 8]]\n",
      "out : [0, 6, 2, 7, 3, 5, 4, 1, 8] Up 19\n",
      "In  [6, 0, 2, 7, 3, 5, 4, 1, 8] Right and the frontier is : [[1, 2, 5, 3, 0, 4, 6, 7, 8], [1, 2, 5, 3, 4, 8, 6, 7, 0], [0, 1, 2, 3, 4, 5, 6, 7, 8], [1, 4, 2, 3, 5, 0, 6, 7, 8], [1, 4, 2, 0, 3, 5, 6, 7, 8], [1, 4, 2, 3, 7, 5, 6, 8, 0], [1, 4, 2, 7, 0, 5, 3, 6, 8], [4, 2, 0, 1, 7, 5, 3, 6, 8], [4, 7, 2, 1, 5, 0, 3, 6, 8], [4, 7, 2, 0, 1, 5, 3, 6, 8], [4, 7, 2, 1, 6, 5, 3, 8, 0], [4, 7, 2, 6, 0, 5, 1, 3, 8], [7, 2, 0, 4, 6, 5, 1, 3, 8], [7, 6, 2, 4, 5, 0, 1, 3, 8], [7, 6, 2, 0, 4, 5, 1, 3, 8], [7, 6, 2, 4, 3, 5, 1, 8, 0], [7, 6, 2, 3, 0, 5, 4, 1, 8], [6, 0, 2, 7, 3, 5, 4, 1, 8]]\n",
      "out : [6, 0, 2, 7, 3, 5, 4, 1, 8] Right 20\n",
      "In  [6, 2, 0, 7, 3, 5, 4, 1, 8] Right and the frontier is : [[1, 2, 5, 3, 0, 4, 6, 7, 8], [1, 2, 5, 3, 4, 8, 6, 7, 0], [0, 1, 2, 3, 4, 5, 6, 7, 8], [1, 4, 2, 3, 5, 0, 6, 7, 8], [1, 4, 2, 0, 3, 5, 6, 7, 8], [1, 4, 2, 3, 7, 5, 6, 8, 0], [1, 4, 2, 7, 0, 5, 3, 6, 8], [4, 2, 0, 1, 7, 5, 3, 6, 8], [4, 7, 2, 1, 5, 0, 3, 6, 8], [4, 7, 2, 0, 1, 5, 3, 6, 8], [4, 7, 2, 1, 6, 5, 3, 8, 0], [4, 7, 2, 6, 0, 5, 1, 3, 8], [7, 2, 0, 4, 6, 5, 1, 3, 8], [7, 6, 2, 4, 5, 0, 1, 3, 8], [7, 6, 2, 0, 4, 5, 1, 3, 8], [7, 6, 2, 4, 3, 5, 1, 8, 0], [7, 6, 2, 3, 0, 5, 4, 1, 8], [6, 2, 0, 7, 3, 5, 4, 1, 8]]\n",
      "In  [6, 3, 2, 7, 0, 5, 4, 1, 8] Down and the frontier is : [[1, 2, 5, 3, 0, 4, 6, 7, 8], [1, 2, 5, 3, 4, 8, 6, 7, 0], [0, 1, 2, 3, 4, 5, 6, 7, 8], [1, 4, 2, 3, 5, 0, 6, 7, 8], [1, 4, 2, 0, 3, 5, 6, 7, 8], [1, 4, 2, 3, 7, 5, 6, 8, 0], [1, 4, 2, 7, 0, 5, 3, 6, 8], [4, 2, 0, 1, 7, 5, 3, 6, 8], [4, 7, 2, 1, 5, 0, 3, 6, 8], [4, 7, 2, 0, 1, 5, 3, 6, 8], [4, 7, 2, 1, 6, 5, 3, 8, 0], [4, 7, 2, 6, 0, 5, 1, 3, 8], [7, 2, 0, 4, 6, 5, 1, 3, 8], [7, 6, 2, 4, 5, 0, 1, 3, 8], [7, 6, 2, 0, 4, 5, 1, 3, 8], [7, 6, 2, 4, 3, 5, 1, 8, 0], [7, 6, 2, 3, 0, 5, 4, 1, 8], [6, 2, 0, 7, 3, 5, 4, 1, 8], [6, 3, 2, 7, 0, 5, 4, 1, 8]]\n",
      "out : [6, 3, 2, 7, 0, 5, 4, 1, 8] Down 21\n",
      "In  [6, 3, 2, 7, 5, 0, 4, 1, 8] Right and the frontier is : [[1, 2, 5, 3, 0, 4, 6, 7, 8], [1, 2, 5, 3, 4, 8, 6, 7, 0], [0, 1, 2, 3, 4, 5, 6, 7, 8], [1, 4, 2, 3, 5, 0, 6, 7, 8], [1, 4, 2, 0, 3, 5, 6, 7, 8], [1, 4, 2, 3, 7, 5, 6, 8, 0], [1, 4, 2, 7, 0, 5, 3, 6, 8], [4, 2, 0, 1, 7, 5, 3, 6, 8], [4, 7, 2, 1, 5, 0, 3, 6, 8], [4, 7, 2, 0, 1, 5, 3, 6, 8], [4, 7, 2, 1, 6, 5, 3, 8, 0], [4, 7, 2, 6, 0, 5, 1, 3, 8], [7, 2, 0, 4, 6, 5, 1, 3, 8], [7, 6, 2, 4, 5, 0, 1, 3, 8], [7, 6, 2, 0, 4, 5, 1, 3, 8], [7, 6, 2, 4, 3, 5, 1, 8, 0], [7, 6, 2, 3, 0, 5, 4, 1, 8], [6, 2, 0, 7, 3, 5, 4, 1, 8], [6, 3, 2, 7, 5, 0, 4, 1, 8]]\n",
      "In  [6, 3, 2, 0, 7, 5, 4, 1, 8] Left and the frontier is : [[1, 2, 5, 3, 0, 4, 6, 7, 8], [1, 2, 5, 3, 4, 8, 6, 7, 0], [0, 1, 2, 3, 4, 5, 6, 7, 8], [1, 4, 2, 3, 5, 0, 6, 7, 8], [1, 4, 2, 0, 3, 5, 6, 7, 8], [1, 4, 2, 3, 7, 5, 6, 8, 0], [1, 4, 2, 7, 0, 5, 3, 6, 8], [4, 2, 0, 1, 7, 5, 3, 6, 8], [4, 7, 2, 1, 5, 0, 3, 6, 8], [4, 7, 2, 0, 1, 5, 3, 6, 8], [4, 7, 2, 1, 6, 5, 3, 8, 0], [4, 7, 2, 6, 0, 5, 1, 3, 8], [7, 2, 0, 4, 6, 5, 1, 3, 8], [7, 6, 2, 4, 5, 0, 1, 3, 8], [7, 6, 2, 0, 4, 5, 1, 3, 8], [7, 6, 2, 4, 3, 5, 1, 8, 0], [7, 6, 2, 3, 0, 5, 4, 1, 8], [6, 2, 0, 7, 3, 5, 4, 1, 8], [6, 3, 2, 7, 5, 0, 4, 1, 8], [6, 3, 2, 0, 7, 5, 4, 1, 8]]\n",
      "In  [6, 3, 2, 7, 1, 5, 4, 0, 8] Down and the frontier is : [[1, 2, 5, 3, 0, 4, 6, 7, 8], [1, 2, 5, 3, 4, 8, 6, 7, 0], [0, 1, 2, 3, 4, 5, 6, 7, 8], [1, 4, 2, 3, 5, 0, 6, 7, 8], [1, 4, 2, 0, 3, 5, 6, 7, 8], [1, 4, 2, 3, 7, 5, 6, 8, 0], [1, 4, 2, 7, 0, 5, 3, 6, 8], [4, 2, 0, 1, 7, 5, 3, 6, 8], [4, 7, 2, 1, 5, 0, 3, 6, 8], [4, 7, 2, 0, 1, 5, 3, 6, 8], [4, 7, 2, 1, 6, 5, 3, 8, 0], [4, 7, 2, 6, 0, 5, 1, 3, 8], [7, 2, 0, 4, 6, 5, 1, 3, 8], [7, 6, 2, 4, 5, 0, 1, 3, 8], [7, 6, 2, 0, 4, 5, 1, 3, 8], [7, 6, 2, 4, 3, 5, 1, 8, 0], [7, 6, 2, 3, 0, 5, 4, 1, 8], [6, 2, 0, 7, 3, 5, 4, 1, 8], [6, 3, 2, 7, 5, 0, 4, 1, 8], [6, 3, 2, 0, 7, 5, 4, 1, 8], [6, 3, 2, 7, 1, 5, 4, 0, 8]]\n",
      "out : [6, 3, 2, 7, 1, 5, 4, 0, 8] Down 22\n",
      "In  [6, 3, 2, 7, 1, 5, 4, 8, 0] Right and the frontier is : [[1, 2, 5, 3, 0, 4, 6, 7, 8], [1, 2, 5, 3, 4, 8, 6, 7, 0], [0, 1, 2, 3, 4, 5, 6, 7, 8], [1, 4, 2, 3, 5, 0, 6, 7, 8], [1, 4, 2, 0, 3, 5, 6, 7, 8], [1, 4, 2, 3, 7, 5, 6, 8, 0], [1, 4, 2, 7, 0, 5, 3, 6, 8], [4, 2, 0, 1, 7, 5, 3, 6, 8], [4, 7, 2, 1, 5, 0, 3, 6, 8], [4, 7, 2, 0, 1, 5, 3, 6, 8], [4, 7, 2, 1, 6, 5, 3, 8, 0], [4, 7, 2, 6, 0, 5, 1, 3, 8], [7, 2, 0, 4, 6, 5, 1, 3, 8], [7, 6, 2, 4, 5, 0, 1, 3, 8], [7, 6, 2, 0, 4, 5, 1, 3, 8], [7, 6, 2, 4, 3, 5, 1, 8, 0], [7, 6, 2, 3, 0, 5, 4, 1, 8], [6, 2, 0, 7, 3, 5, 4, 1, 8], [6, 3, 2, 7, 5, 0, 4, 1, 8], [6, 3, 2, 0, 7, 5, 4, 1, 8], [6, 3, 2, 7, 1, 5, 4, 8, 0]]\n",
      "In  [6, 3, 2, 7, 1, 5, 0, 4, 8] Left and the frontier is : [[1, 2, 5, 3, 0, 4, 6, 7, 8], [1, 2, 5, 3, 4, 8, 6, 7, 0], [0, 1, 2, 3, 4, 5, 6, 7, 8], [1, 4, 2, 3, 5, 0, 6, 7, 8], [1, 4, 2, 0, 3, 5, 6, 7, 8], [1, 4, 2, 3, 7, 5, 6, 8, 0], [1, 4, 2, 7, 0, 5, 3, 6, 8], [4, 2, 0, 1, 7, 5, 3, 6, 8], [4, 7, 2, 1, 5, 0, 3, 6, 8], [4, 7, 2, 0, 1, 5, 3, 6, 8], [4, 7, 2, 1, 6, 5, 3, 8, 0], [4, 7, 2, 6, 0, 5, 1, 3, 8], [7, 2, 0, 4, 6, 5, 1, 3, 8], [7, 6, 2, 4, 5, 0, 1, 3, 8], [7, 6, 2, 0, 4, 5, 1, 3, 8], [7, 6, 2, 4, 3, 5, 1, 8, 0], [7, 6, 2, 3, 0, 5, 4, 1, 8], [6, 2, 0, 7, 3, 5, 4, 1, 8], [6, 3, 2, 7, 5, 0, 4, 1, 8], [6, 3, 2, 0, 7, 5, 4, 1, 8], [6, 3, 2, 7, 1, 5, 4, 8, 0], [6, 3, 2, 7, 1, 5, 0, 4, 8]]\n",
      "out : [6, 3, 2, 7, 1, 5, 0, 4, 8] Left 23\n",
      "In  [6, 3, 2, 0, 1, 5, 7, 4, 8] Up and the frontier is : [[1, 2, 5, 3, 0, 4, 6, 7, 8], [1, 2, 5, 3, 4, 8, 6, 7, 0], [0, 1, 2, 3, 4, 5, 6, 7, 8], [1, 4, 2, 3, 5, 0, 6, 7, 8], [1, 4, 2, 0, 3, 5, 6, 7, 8], [1, 4, 2, 3, 7, 5, 6, 8, 0], [1, 4, 2, 7, 0, 5, 3, 6, 8], [4, 2, 0, 1, 7, 5, 3, 6, 8], [4, 7, 2, 1, 5, 0, 3, 6, 8], [4, 7, 2, 0, 1, 5, 3, 6, 8], [4, 7, 2, 1, 6, 5, 3, 8, 0], [4, 7, 2, 6, 0, 5, 1, 3, 8], [7, 2, 0, 4, 6, 5, 1, 3, 8], [7, 6, 2, 4, 5, 0, 1, 3, 8], [7, 6, 2, 0, 4, 5, 1, 3, 8], [7, 6, 2, 4, 3, 5, 1, 8, 0], [7, 6, 2, 3, 0, 5, 4, 1, 8], [6, 2, 0, 7, 3, 5, 4, 1, 8], [6, 3, 2, 7, 5, 0, 4, 1, 8], [6, 3, 2, 0, 7, 5, 4, 1, 8], [6, 3, 2, 7, 1, 5, 4, 8, 0], [6, 3, 2, 0, 1, 5, 7, 4, 8]]\n",
      "out : [6, 3, 2, 0, 1, 5, 7, 4, 8] Up 24\n",
      "In  [6, 3, 2, 1, 0, 5, 7, 4, 8] Right and the frontier is : [[1, 2, 5, 3, 0, 4, 6, 7, 8], [1, 2, 5, 3, 4, 8, 6, 7, 0], [0, 1, 2, 3, 4, 5, 6, 7, 8], [1, 4, 2, 3, 5, 0, 6, 7, 8], [1, 4, 2, 0, 3, 5, 6, 7, 8], [1, 4, 2, 3, 7, 5, 6, 8, 0], [1, 4, 2, 7, 0, 5, 3, 6, 8], [4, 2, 0, 1, 7, 5, 3, 6, 8], [4, 7, 2, 1, 5, 0, 3, 6, 8], [4, 7, 2, 0, 1, 5, 3, 6, 8], [4, 7, 2, 1, 6, 5, 3, 8, 0], [4, 7, 2, 6, 0, 5, 1, 3, 8], [7, 2, 0, 4, 6, 5, 1, 3, 8], [7, 6, 2, 4, 5, 0, 1, 3, 8], [7, 6, 2, 0, 4, 5, 1, 3, 8], [7, 6, 2, 4, 3, 5, 1, 8, 0], [7, 6, 2, 3, 0, 5, 4, 1, 8], [6, 2, 0, 7, 3, 5, 4, 1, 8], [6, 3, 2, 7, 5, 0, 4, 1, 8], [6, 3, 2, 0, 7, 5, 4, 1, 8], [6, 3, 2, 7, 1, 5, 4, 8, 0], [6, 3, 2, 1, 0, 5, 7, 4, 8]]\n",
      "In  [0, 3, 2, 6, 1, 5, 7, 4, 8] Up and the frontier is : [[1, 2, 5, 3, 0, 4, 6, 7, 8], [1, 2, 5, 3, 4, 8, 6, 7, 0], [0, 1, 2, 3, 4, 5, 6, 7, 8], [1, 4, 2, 3, 5, 0, 6, 7, 8], [1, 4, 2, 0, 3, 5, 6, 7, 8], [1, 4, 2, 3, 7, 5, 6, 8, 0], [1, 4, 2, 7, 0, 5, 3, 6, 8], [4, 2, 0, 1, 7, 5, 3, 6, 8], [4, 7, 2, 1, 5, 0, 3, 6, 8], [4, 7, 2, 0, 1, 5, 3, 6, 8], [4, 7, 2, 1, 6, 5, 3, 8, 0], [4, 7, 2, 6, 0, 5, 1, 3, 8], [7, 2, 0, 4, 6, 5, 1, 3, 8], [7, 6, 2, 4, 5, 0, 1, 3, 8], [7, 6, 2, 0, 4, 5, 1, 3, 8], [7, 6, 2, 4, 3, 5, 1, 8, 0], [7, 6, 2, 3, 0, 5, 4, 1, 8], [6, 2, 0, 7, 3, 5, 4, 1, 8], [6, 3, 2, 7, 5, 0, 4, 1, 8], [6, 3, 2, 0, 7, 5, 4, 1, 8], [6, 3, 2, 7, 1, 5, 4, 8, 0], [6, 3, 2, 1, 0, 5, 7, 4, 8], [0, 3, 2, 6, 1, 5, 7, 4, 8]]\n",
      "out : [0, 3, 2, 6, 1, 5, 7, 4, 8] Up 25\n",
      "In  [3, 0, 2, 6, 1, 5, 7, 4, 8] Right and the frontier is : [[1, 2, 5, 3, 0, 4, 6, 7, 8], [1, 2, 5, 3, 4, 8, 6, 7, 0], [0, 1, 2, 3, 4, 5, 6, 7, 8], [1, 4, 2, 3, 5, 0, 6, 7, 8], [1, 4, 2, 0, 3, 5, 6, 7, 8], [1, 4, 2, 3, 7, 5, 6, 8, 0], [1, 4, 2, 7, 0, 5, 3, 6, 8], [4, 2, 0, 1, 7, 5, 3, 6, 8], [4, 7, 2, 1, 5, 0, 3, 6, 8], [4, 7, 2, 0, 1, 5, 3, 6, 8], [4, 7, 2, 1, 6, 5, 3, 8, 0], [4, 7, 2, 6, 0, 5, 1, 3, 8], [7, 2, 0, 4, 6, 5, 1, 3, 8], [7, 6, 2, 4, 5, 0, 1, 3, 8], [7, 6, 2, 0, 4, 5, 1, 3, 8], [7, 6, 2, 4, 3, 5, 1, 8, 0], [7, 6, 2, 3, 0, 5, 4, 1, 8], [6, 2, 0, 7, 3, 5, 4, 1, 8], [6, 3, 2, 7, 5, 0, 4, 1, 8], [6, 3, 2, 0, 7, 5, 4, 1, 8], [6, 3, 2, 7, 1, 5, 4, 8, 0], [6, 3, 2, 1, 0, 5, 7, 4, 8], [3, 0, 2, 6, 1, 5, 7, 4, 8]]\n",
      "out : [3, 0, 2, 6, 1, 5, 7, 4, 8] Right 26\n",
      "In  [3, 2, 0, 6, 1, 5, 7, 4, 8] Right and the frontier is : [[1, 2, 5, 3, 0, 4, 6, 7, 8], [1, 2, 5, 3, 4, 8, 6, 7, 0], [0, 1, 2, 3, 4, 5, 6, 7, 8], [1, 4, 2, 3, 5, 0, 6, 7, 8], [1, 4, 2, 0, 3, 5, 6, 7, 8], [1, 4, 2, 3, 7, 5, 6, 8, 0], [1, 4, 2, 7, 0, 5, 3, 6, 8], [4, 2, 0, 1, 7, 5, 3, 6, 8], [4, 7, 2, 1, 5, 0, 3, 6, 8], [4, 7, 2, 0, 1, 5, 3, 6, 8], [4, 7, 2, 1, 6, 5, 3, 8, 0], [4, 7, 2, 6, 0, 5, 1, 3, 8], [7, 2, 0, 4, 6, 5, 1, 3, 8], [7, 6, 2, 4, 5, 0, 1, 3, 8], [7, 6, 2, 0, 4, 5, 1, 3, 8], [7, 6, 2, 4, 3, 5, 1, 8, 0], [7, 6, 2, 3, 0, 5, 4, 1, 8], [6, 2, 0, 7, 3, 5, 4, 1, 8], [6, 3, 2, 7, 5, 0, 4, 1, 8], [6, 3, 2, 0, 7, 5, 4, 1, 8], [6, 3, 2, 7, 1, 5, 4, 8, 0], [6, 3, 2, 1, 0, 5, 7, 4, 8], [3, 2, 0, 6, 1, 5, 7, 4, 8]]\n",
      "In  [3, 1, 2, 6, 0, 5, 7, 4, 8] Down and the frontier is : [[1, 2, 5, 3, 0, 4, 6, 7, 8], [1, 2, 5, 3, 4, 8, 6, 7, 0], [0, 1, 2, 3, 4, 5, 6, 7, 8], [1, 4, 2, 3, 5, 0, 6, 7, 8], [1, 4, 2, 0, 3, 5, 6, 7, 8], [1, 4, 2, 3, 7, 5, 6, 8, 0], [1, 4, 2, 7, 0, 5, 3, 6, 8], [4, 2, 0, 1, 7, 5, 3, 6, 8], [4, 7, 2, 1, 5, 0, 3, 6, 8], [4, 7, 2, 0, 1, 5, 3, 6, 8], [4, 7, 2, 1, 6, 5, 3, 8, 0], [4, 7, 2, 6, 0, 5, 1, 3, 8], [7, 2, 0, 4, 6, 5, 1, 3, 8], [7, 6, 2, 4, 5, 0, 1, 3, 8], [7, 6, 2, 0, 4, 5, 1, 3, 8], [7, 6, 2, 4, 3, 5, 1, 8, 0], [7, 6, 2, 3, 0, 5, 4, 1, 8], [6, 2, 0, 7, 3, 5, 4, 1, 8], [6, 3, 2, 7, 5, 0, 4, 1, 8], [6, 3, 2, 0, 7, 5, 4, 1, 8], [6, 3, 2, 7, 1, 5, 4, 8, 0], [6, 3, 2, 1, 0, 5, 7, 4, 8], [3, 2, 0, 6, 1, 5, 7, 4, 8], [3, 1, 2, 6, 0, 5, 7, 4, 8]]\n",
      "out : [3, 1, 2, 6, 0, 5, 7, 4, 8] Down 27\n",
      "In  [3, 1, 2, 6, 5, 0, 7, 4, 8] Right and the frontier is : [[1, 2, 5, 3, 0, 4, 6, 7, 8], [1, 2, 5, 3, 4, 8, 6, 7, 0], [0, 1, 2, 3, 4, 5, 6, 7, 8], [1, 4, 2, 3, 5, 0, 6, 7, 8], [1, 4, 2, 0, 3, 5, 6, 7, 8], [1, 4, 2, 3, 7, 5, 6, 8, 0], [1, 4, 2, 7, 0, 5, 3, 6, 8], [4, 2, 0, 1, 7, 5, 3, 6, 8], [4, 7, 2, 1, 5, 0, 3, 6, 8], [4, 7, 2, 0, 1, 5, 3, 6, 8], [4, 7, 2, 1, 6, 5, 3, 8, 0], [4, 7, 2, 6, 0, 5, 1, 3, 8], [7, 2, 0, 4, 6, 5, 1, 3, 8], [7, 6, 2, 4, 5, 0, 1, 3, 8], [7, 6, 2, 0, 4, 5, 1, 3, 8], [7, 6, 2, 4, 3, 5, 1, 8, 0], [7, 6, 2, 3, 0, 5, 4, 1, 8], [6, 2, 0, 7, 3, 5, 4, 1, 8], [6, 3, 2, 7, 5, 0, 4, 1, 8], [6, 3, 2, 0, 7, 5, 4, 1, 8], [6, 3, 2, 7, 1, 5, 4, 8, 0], [6, 3, 2, 1, 0, 5, 7, 4, 8], [3, 2, 0, 6, 1, 5, 7, 4, 8], [3, 1, 2, 6, 5, 0, 7, 4, 8]]\n",
      "In  [3, 1, 2, 0, 6, 5, 7, 4, 8] Left and the frontier is : [[1, 2, 5, 3, 0, 4, 6, 7, 8], [1, 2, 5, 3, 4, 8, 6, 7, 0], [0, 1, 2, 3, 4, 5, 6, 7, 8], [1, 4, 2, 3, 5, 0, 6, 7, 8], [1, 4, 2, 0, 3, 5, 6, 7, 8], [1, 4, 2, 3, 7, 5, 6, 8, 0], [1, 4, 2, 7, 0, 5, 3, 6, 8], [4, 2, 0, 1, 7, 5, 3, 6, 8], [4, 7, 2, 1, 5, 0, 3, 6, 8], [4, 7, 2, 0, 1, 5, 3, 6, 8], [4, 7, 2, 1, 6, 5, 3, 8, 0], [4, 7, 2, 6, 0, 5, 1, 3, 8], [7, 2, 0, 4, 6, 5, 1, 3, 8], [7, 6, 2, 4, 5, 0, 1, 3, 8], [7, 6, 2, 0, 4, 5, 1, 3, 8], [7, 6, 2, 4, 3, 5, 1, 8, 0], [7, 6, 2, 3, 0, 5, 4, 1, 8], [6, 2, 0, 7, 3, 5, 4, 1, 8], [6, 3, 2, 7, 5, 0, 4, 1, 8], [6, 3, 2, 0, 7, 5, 4, 1, 8], [6, 3, 2, 7, 1, 5, 4, 8, 0], [6, 3, 2, 1, 0, 5, 7, 4, 8], [3, 2, 0, 6, 1, 5, 7, 4, 8], [3, 1, 2, 6, 5, 0, 7, 4, 8], [3, 1, 2, 0, 6, 5, 7, 4, 8]]\n",
      "In  [3, 1, 2, 6, 4, 5, 7, 0, 8] Down and the frontier is : [[1, 2, 5, 3, 0, 4, 6, 7, 8], [1, 2, 5, 3, 4, 8, 6, 7, 0], [0, 1, 2, 3, 4, 5, 6, 7, 8], [1, 4, 2, 3, 5, 0, 6, 7, 8], [1, 4, 2, 0, 3, 5, 6, 7, 8], [1, 4, 2, 3, 7, 5, 6, 8, 0], [1, 4, 2, 7, 0, 5, 3, 6, 8], [4, 2, 0, 1, 7, 5, 3, 6, 8], [4, 7, 2, 1, 5, 0, 3, 6, 8], [4, 7, 2, 0, 1, 5, 3, 6, 8], [4, 7, 2, 1, 6, 5, 3, 8, 0], [4, 7, 2, 6, 0, 5, 1, 3, 8], [7, 2, 0, 4, 6, 5, 1, 3, 8], [7, 6, 2, 4, 5, 0, 1, 3, 8], [7, 6, 2, 0, 4, 5, 1, 3, 8], [7, 6, 2, 4, 3, 5, 1, 8, 0], [7, 6, 2, 3, 0, 5, 4, 1, 8], [6, 2, 0, 7, 3, 5, 4, 1, 8], [6, 3, 2, 7, 5, 0, 4, 1, 8], [6, 3, 2, 0, 7, 5, 4, 1, 8], [6, 3, 2, 7, 1, 5, 4, 8, 0], [6, 3, 2, 1, 0, 5, 7, 4, 8], [3, 2, 0, 6, 1, 5, 7, 4, 8], [3, 1, 2, 6, 5, 0, 7, 4, 8], [3, 1, 2, 0, 6, 5, 7, 4, 8], [3, 1, 2, 6, 4, 5, 7, 0, 8]]\n",
      "out : [3, 1, 2, 6, 4, 5, 7, 0, 8] Down 28\n",
      "In  [3, 1, 2, 6, 4, 5, 7, 8, 0] Right and the frontier is : [[1, 2, 5, 3, 0, 4, 6, 7, 8], [1, 2, 5, 3, 4, 8, 6, 7, 0], [0, 1, 2, 3, 4, 5, 6, 7, 8], [1, 4, 2, 3, 5, 0, 6, 7, 8], [1, 4, 2, 0, 3, 5, 6, 7, 8], [1, 4, 2, 3, 7, 5, 6, 8, 0], [1, 4, 2, 7, 0, 5, 3, 6, 8], [4, 2, 0, 1, 7, 5, 3, 6, 8], [4, 7, 2, 1, 5, 0, 3, 6, 8], [4, 7, 2, 0, 1, 5, 3, 6, 8], [4, 7, 2, 1, 6, 5, 3, 8, 0], [4, 7, 2, 6, 0, 5, 1, 3, 8], [7, 2, 0, 4, 6, 5, 1, 3, 8], [7, 6, 2, 4, 5, 0, 1, 3, 8], [7, 6, 2, 0, 4, 5, 1, 3, 8], [7, 6, 2, 4, 3, 5, 1, 8, 0], [7, 6, 2, 3, 0, 5, 4, 1, 8], [6, 2, 0, 7, 3, 5, 4, 1, 8], [6, 3, 2, 7, 5, 0, 4, 1, 8], [6, 3, 2, 0, 7, 5, 4, 1, 8], [6, 3, 2, 7, 1, 5, 4, 8, 0], [6, 3, 2, 1, 0, 5, 7, 4, 8], [3, 2, 0, 6, 1, 5, 7, 4, 8], [3, 1, 2, 6, 5, 0, 7, 4, 8], [3, 1, 2, 0, 6, 5, 7, 4, 8], [3, 1, 2, 6, 4, 5, 7, 8, 0]]\n",
      "In  [3, 1, 2, 6, 4, 5, 0, 7, 8] Left and the frontier is : [[1, 2, 5, 3, 0, 4, 6, 7, 8], [1, 2, 5, 3, 4, 8, 6, 7, 0], [0, 1, 2, 3, 4, 5, 6, 7, 8], [1, 4, 2, 3, 5, 0, 6, 7, 8], [1, 4, 2, 0, 3, 5, 6, 7, 8], [1, 4, 2, 3, 7, 5, 6, 8, 0], [1, 4, 2, 7, 0, 5, 3, 6, 8], [4, 2, 0, 1, 7, 5, 3, 6, 8], [4, 7, 2, 1, 5, 0, 3, 6, 8], [4, 7, 2, 0, 1, 5, 3, 6, 8], [4, 7, 2, 1, 6, 5, 3, 8, 0], [4, 7, 2, 6, 0, 5, 1, 3, 8], [7, 2, 0, 4, 6, 5, 1, 3, 8], [7, 6, 2, 4, 5, 0, 1, 3, 8], [7, 6, 2, 0, 4, 5, 1, 3, 8], [7, 6, 2, 4, 3, 5, 1, 8, 0], [7, 6, 2, 3, 0, 5, 4, 1, 8], [6, 2, 0, 7, 3, 5, 4, 1, 8], [6, 3, 2, 7, 5, 0, 4, 1, 8], [6, 3, 2, 0, 7, 5, 4, 1, 8], [6, 3, 2, 7, 1, 5, 4, 8, 0], [6, 3, 2, 1, 0, 5, 7, 4, 8], [3, 2, 0, 6, 1, 5, 7, 4, 8], [3, 1, 2, 6, 5, 0, 7, 4, 8], [3, 1, 2, 0, 6, 5, 7, 4, 8], [3, 1, 2, 6, 4, 5, 7, 8, 0], [3, 1, 2, 6, 4, 5, 0, 7, 8]]\n",
      "out : [3, 1, 2, 6, 4, 5, 0, 7, 8] Left 29\n",
      "In  [3, 1, 2, 0, 4, 5, 6, 7, 8] Up and the frontier is : [[1, 2, 5, 3, 0, 4, 6, 7, 8], [1, 2, 5, 3, 4, 8, 6, 7, 0], [0, 1, 2, 3, 4, 5, 6, 7, 8], [1, 4, 2, 3, 5, 0, 6, 7, 8], [1, 4, 2, 0, 3, 5, 6, 7, 8], [1, 4, 2, 3, 7, 5, 6, 8, 0], [1, 4, 2, 7, 0, 5, 3, 6, 8], [4, 2, 0, 1, 7, 5, 3, 6, 8], [4, 7, 2, 1, 5, 0, 3, 6, 8], [4, 7, 2, 0, 1, 5, 3, 6, 8], [4, 7, 2, 1, 6, 5, 3, 8, 0], [4, 7, 2, 6, 0, 5, 1, 3, 8], [7, 2, 0, 4, 6, 5, 1, 3, 8], [7, 6, 2, 4, 5, 0, 1, 3, 8], [7, 6, 2, 0, 4, 5, 1, 3, 8], [7, 6, 2, 4, 3, 5, 1, 8, 0], [7, 6, 2, 3, 0, 5, 4, 1, 8], [6, 2, 0, 7, 3, 5, 4, 1, 8], [6, 3, 2, 7, 5, 0, 4, 1, 8], [6, 3, 2, 0, 7, 5, 4, 1, 8], [6, 3, 2, 7, 1, 5, 4, 8, 0], [6, 3, 2, 1, 0, 5, 7, 4, 8], [3, 2, 0, 6, 1, 5, 7, 4, 8], [3, 1, 2, 6, 5, 0, 7, 4, 8], [3, 1, 2, 0, 6, 5, 7, 4, 8], [3, 1, 2, 6, 4, 5, 7, 8, 0], [3, 1, 2, 0, 4, 5, 6, 7, 8]]\n",
      "out : [3, 1, 2, 0, 4, 5, 6, 7, 8] Up 30\n",
      "In  [3, 1, 2, 4, 0, 5, 6, 7, 8] Right and the frontier is : [[1, 2, 5, 3, 0, 4, 6, 7, 8], [1, 2, 5, 3, 4, 8, 6, 7, 0], [0, 1, 2, 3, 4, 5, 6, 7, 8], [1, 4, 2, 3, 5, 0, 6, 7, 8], [1, 4, 2, 0, 3, 5, 6, 7, 8], [1, 4, 2, 3, 7, 5, 6, 8, 0], [1, 4, 2, 7, 0, 5, 3, 6, 8], [4, 2, 0, 1, 7, 5, 3, 6, 8], [4, 7, 2, 1, 5, 0, 3, 6, 8], [4, 7, 2, 0, 1, 5, 3, 6, 8], [4, 7, 2, 1, 6, 5, 3, 8, 0], [4, 7, 2, 6, 0, 5, 1, 3, 8], [7, 2, 0, 4, 6, 5, 1, 3, 8], [7, 6, 2, 4, 5, 0, 1, 3, 8], [7, 6, 2, 0, 4, 5, 1, 3, 8], [7, 6, 2, 4, 3, 5, 1, 8, 0], [7, 6, 2, 3, 0, 5, 4, 1, 8], [6, 2, 0, 7, 3, 5, 4, 1, 8], [6, 3, 2, 7, 5, 0, 4, 1, 8], [6, 3, 2, 0, 7, 5, 4, 1, 8], [6, 3, 2, 7, 1, 5, 4, 8, 0], [6, 3, 2, 1, 0, 5, 7, 4, 8], [3, 2, 0, 6, 1, 5, 7, 4, 8], [3, 1, 2, 6, 5, 0, 7, 4, 8], [3, 1, 2, 0, 6, 5, 7, 4, 8], [3, 1, 2, 6, 4, 5, 7, 8, 0], [3, 1, 2, 4, 0, 5, 6, 7, 8]]\n",
      "In  [0, 1, 2, 3, 4, 5, 6, 7, 8] Up and the frontier is : [[1, 2, 5, 3, 0, 4, 6, 7, 8], [1, 2, 5, 3, 4, 8, 6, 7, 0], [0, 1, 2, 3, 4, 5, 6, 7, 8], [1, 4, 2, 3, 5, 0, 6, 7, 8], [1, 4, 2, 0, 3, 5, 6, 7, 8], [1, 4, 2, 3, 7, 5, 6, 8, 0], [1, 4, 2, 7, 0, 5, 3, 6, 8], [4, 2, 0, 1, 7, 5, 3, 6, 8], [4, 7, 2, 1, 5, 0, 3, 6, 8], [4, 7, 2, 0, 1, 5, 3, 6, 8], [4, 7, 2, 1, 6, 5, 3, 8, 0], [4, 7, 2, 6, 0, 5, 1, 3, 8], [7, 2, 0, 4, 6, 5, 1, 3, 8], [7, 6, 2, 4, 5, 0, 1, 3, 8], [7, 6, 2, 0, 4, 5, 1, 3, 8], [7, 6, 2, 4, 3, 5, 1, 8, 0], [7, 6, 2, 3, 0, 5, 4, 1, 8], [6, 2, 0, 7, 3, 5, 4, 1, 8], [6, 3, 2, 7, 5, 0, 4, 1, 8], [6, 3, 2, 0, 7, 5, 4, 1, 8], [6, 3, 2, 7, 1, 5, 4, 8, 0], [6, 3, 2, 1, 0, 5, 7, 4, 8], [3, 2, 0, 6, 1, 5, 7, 4, 8], [3, 1, 2, 6, 5, 0, 7, 4, 8], [3, 1, 2, 0, 6, 5, 7, 4, 8], [3, 1, 2, 6, 4, 5, 7, 8, 0], [3, 1, 2, 4, 0, 5, 6, 7, 8], [0, 1, 2, 3, 4, 5, 6, 7, 8]]\n",
      "out : [0, 1, 2, 3, 4, 5, 6, 7, 8] Up 31\n"
     ]
    },
    {
     "data": {
      "text/plain": [
       "(['Up',\n",
       "  'Left',\n",
       "  'Down',\n",
       "  'Down',\n",
       "  'Left',\n",
       "  'Up',\n",
       "  'Up',\n",
       "  'Right',\n",
       "  'Down',\n",
       "  'Down',\n",
       "  'Left',\n",
       "  'Up',\n",
       "  'Up',\n",
       "  'Right',\n",
       "  'Down',\n",
       "  'Down',\n",
       "  'Left',\n",
       "  'Up',\n",
       "  'Up',\n",
       "  'Right',\n",
       "  'Down',\n",
       "  'Down',\n",
       "  'Left',\n",
       "  'Up',\n",
       "  'Up',\n",
       "  'Right',\n",
       "  'Down',\n",
       "  'Down',\n",
       "  'Left',\n",
       "  'Up',\n",
       "  'Up'],\n",
       " 31)"
      ]
     },
     "execution_count": 25,
     "metadata": {},
     "output_type": "execute_result"
    }
   ],
   "source": [
    "depth_first_search(initial_state=initial_state, goal=list(range(9)))"
   ]
  },
  {
   "cell_type": "code",
   "execution_count": null,
   "metadata": {},
   "outputs": [],
   "source": []
  }
 ],
 "metadata": {
  "kernelspec": {
   "display_name": "Python 3",
   "language": "python",
   "name": "python3"
  },
  "language_info": {
   "codemirror_mode": {
    "name": "ipython",
    "version": 3
   },
   "file_extension": ".py",
   "mimetype": "text/x-python",
   "name": "python",
   "nbconvert_exporter": "python",
   "pygments_lexer": "ipython3",
   "version": "3.6.3"
  }
 },
 "nbformat": 4,
 "nbformat_minor": 2
}
